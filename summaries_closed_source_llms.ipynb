{
 "cells": [
  {
   "cell_type": "markdown",
   "id": "a580b6a6-4b68-4e08-9050-edce504ccbbb",
   "metadata": {},
   "source": [
    "# Importing Libraries"
   ]
  },
  {
   "cell_type": "code",
   "execution_count": 2,
   "id": "85ad66f2-7380-43b4-94f9-0d095580cabd",
   "metadata": {},
   "outputs": [],
   "source": [
    "import os\n",
    "import requests\n",
    "from dotenv import load_dotenv\n",
    "from bs4 import BeautifulSoup\n",
    "from IPython.display import Markdown, display\n",
    "from openai import OpenAI\n",
    "import google.generativeai as genai"
   ]
  },
  {
   "cell_type": "code",
   "execution_count": 2,
   "id": "e21e395e-f91a-441a-8982-fa2090bb05b1",
   "metadata": {},
   "outputs": [
    {
     "name": "stdout",
     "output_type": "stream",
     "text": [
      "Requirement already satisfied: requests in ./venv/lib/python3.11/site-packages (2.32.3)\n",
      "Requirement already satisfied: beautifulsoup4 in ./venv/lib/python3.11/site-packages (4.13.3)\n",
      "Requirement already satisfied: google-generativeai in ./venv/lib/python3.11/site-packages (0.8.4)\n",
      "Requirement already satisfied: charset-normalizer<4,>=2 in ./venv/lib/python3.11/site-packages (from requests) (3.4.1)\n",
      "Requirement already satisfied: idna<4,>=2.5 in ./venv/lib/python3.11/site-packages (from requests) (3.10)\n",
      "Requirement already satisfied: urllib3<3,>=1.21.1 in ./venv/lib/python3.11/site-packages (from requests) (2.4.0)\n",
      "Requirement already satisfied: certifi>=2017.4.17 in ./venv/lib/python3.11/site-packages (from requests) (2025.1.31)\n",
      "Requirement already satisfied: soupsieve>1.2 in ./venv/lib/python3.11/site-packages (from beautifulsoup4) (2.6)\n",
      "Requirement already satisfied: typing-extensions>=4.0.0 in ./venv/lib/python3.11/site-packages (from beautifulsoup4) (4.13.2)\n",
      "Requirement already satisfied: google-ai-generativelanguage==0.6.15 in ./venv/lib/python3.11/site-packages (from google-generativeai) (0.6.15)\n",
      "Requirement already satisfied: google-api-core in ./venv/lib/python3.11/site-packages (from google-generativeai) (2.24.2)\n",
      "Requirement already satisfied: google-api-python-client in ./venv/lib/python3.11/site-packages (from google-generativeai) (2.166.0)\n",
      "Requirement already satisfied: google-auth>=2.15.0 in ./venv/lib/python3.11/site-packages (from google-generativeai) (2.38.0)\n",
      "Requirement already satisfied: protobuf in ./venv/lib/python3.11/site-packages (from google-generativeai) (5.29.4)\n",
      "Requirement already satisfied: pydantic in ./venv/lib/python3.11/site-packages (from google-generativeai) (2.11.3)\n",
      "Requirement already satisfied: tqdm in ./venv/lib/python3.11/site-packages (from google-generativeai) (4.67.1)\n",
      "Requirement already satisfied: proto-plus<2.0.0dev,>=1.22.3 in ./venv/lib/python3.11/site-packages (from google-ai-generativelanguage==0.6.15->google-generativeai) (1.26.1)\n",
      "Requirement already satisfied: cachetools<6.0,>=2.0.0 in ./venv/lib/python3.11/site-packages (from google-auth>=2.15.0->google-generativeai) (5.5.2)\n",
      "Requirement already satisfied: pyasn1-modules>=0.2.1 in ./venv/lib/python3.11/site-packages (from google-auth>=2.15.0->google-generativeai) (0.4.2)\n",
      "Requirement already satisfied: rsa<5,>=3.1.4 in ./venv/lib/python3.11/site-packages (from google-auth>=2.15.0->google-generativeai) (4.9)\n",
      "Requirement already satisfied: googleapis-common-protos<2.0.0,>=1.56.2 in ./venv/lib/python3.11/site-packages (from google-api-core->google-generativeai) (1.69.2)\n",
      "Requirement already satisfied: httplib2<1.0.0,>=0.19.0 in ./venv/lib/python3.11/site-packages (from google-api-python-client->google-generativeai) (0.22.0)\n",
      "Requirement already satisfied: google-auth-httplib2<1.0.0,>=0.2.0 in ./venv/lib/python3.11/site-packages (from google-api-python-client->google-generativeai) (0.2.0)\n",
      "Requirement already satisfied: uritemplate<5,>=3.0.1 in ./venv/lib/python3.11/site-packages (from google-api-python-client->google-generativeai) (4.1.1)\n",
      "Requirement already satisfied: annotated-types>=0.6.0 in ./venv/lib/python3.11/site-packages (from pydantic->google-generativeai) (0.7.0)\n",
      "Requirement already satisfied: pydantic-core==2.33.1 in ./venv/lib/python3.11/site-packages (from pydantic->google-generativeai) (2.33.1)\n",
      "Requirement already satisfied: typing-inspection>=0.4.0 in ./venv/lib/python3.11/site-packages (from pydantic->google-generativeai) (0.4.0)\n",
      "Requirement already satisfied: grpcio<2.0dev,>=1.33.2 in ./venv/lib/python3.11/site-packages (from google-api-core->google-generativeai) (1.71.0)\n",
      "Requirement already satisfied: grpcio-status<2.0.dev0,>=1.33.2 in ./venv/lib/python3.11/site-packages (from google-api-core->google-generativeai) (1.71.0)\n",
      "Requirement already satisfied: pyparsing!=3.0.0,!=3.0.1,!=3.0.2,!=3.0.3,<4,>=2.4.2 in ./venv/lib/python3.11/site-packages (from httplib2<1.0.0,>=0.19.0->google-api-python-client->google-generativeai) (3.2.3)\n",
      "Requirement already satisfied: pyasn1<0.7.0,>=0.6.1 in ./venv/lib/python3.11/site-packages (from pyasn1-modules>=0.2.1->google-auth>=2.15.0->google-generativeai) (0.6.1)\n",
      "\n",
      "\u001b[1m[\u001b[0m\u001b[34;49mnotice\u001b[0m\u001b[1;39;49m]\u001b[0m\u001b[39;49m A new release of pip is available: \u001b[0m\u001b[31;49m23.2.1\u001b[0m\u001b[39;49m -> \u001b[0m\u001b[32;49m25.0.1\u001b[0m\n",
      "\u001b[1m[\u001b[0m\u001b[34;49mnotice\u001b[0m\u001b[1;39;49m]\u001b[0m\u001b[39;49m To update, run: \u001b[0m\u001b[32;49mpip install --upgrade pip\u001b[0m\n"
     ]
    }
   ],
   "source": [
    "! pip install requests beautifulsoup4 google-generativeai"
   ]
  },
  {
   "cell_type": "markdown",
   "id": "1b3c02cb-5b7a-4e85-bba0-a705c80f4ed3",
   "metadata": {},
   "source": [
    "# Connecting to OpenAI"
   ]
  },
  {
   "cell_type": "code",
   "execution_count": 3,
   "id": "c5929fc4-5246-4bde-8a61-fa3d459b25c9",
   "metadata": {},
   "outputs": [
    {
     "name": "stdout",
     "output_type": "stream",
     "text": [
      "sk-proj-8\n",
      "AIz\n"
     ]
    }
   ],
   "source": [
    "# load_dotenv()\n",
    "# openai_api_key = os.getenv('OPENAI_API_KEY')\n",
    "# print(api_key[:9])\n",
    "# gemini_api_key = os.getenv('GEMINI_API_KEY')\n",
    "# print(gemini_api_key[0:3])\n",
    "\n",
    "\n",
    "# from dotenv import load_dotenv\n",
    "# import os\n",
    "\n",
    "load_dotenv()\n",
    "\n",
    "openai_api_key = os.getenv('OPENAI_API_KEY')\n",
    "print(openai_api_key[:9])  # <-- this line caused the error before\n",
    "\n",
    "gemini_api_key = os.getenv('GEMINI_API_KEY')\n",
    "print(gemini_api_key[:3])\n"
   ]
  },
  {
   "cell_type": "code",
   "execution_count": 7,
   "id": "bdd1314e-66f1-4cca-85aa-8375dbea7dc6",
   "metadata": {},
   "outputs": [],
   "source": [
    "openai = OpenAI()\n",
    "gemini = genai.GenerativeModel(model_name=\"gemini-1.5-flash\")"
   ]
  },
  {
   "cell_type": "code",
   "execution_count": 8,
   "id": "f9e29bdc-32a0-4b02-8622-5f9ec7c9f297",
   "metadata": {},
   "outputs": [],
   "source": [
    "headers = {\n",
    " \"User-Agent\": \"Mozilla/5.0 (Windows NT 10.0; Win64; x64) AppleWebKit/537.36 (KHTML, like Gecko) Chrome/117.0.0.0 Safari/537.36\"\n",
    "}\n",
    "class Website:\n",
    "\n",
    "    def __init__(self, url):\n",
    "        \"\"\"\n",
    "        Create this Website object from the given url using the BeautifulSoup library\n",
    "        \"\"\"\n",
    "        self.url = url\n",
    "        response = requests.get(url, headers=headers)\n",
    "        soup = BeautifulSoup(response.content, 'html.parser')\n",
    "        self.title = soup.title.string if soup.title else \"No title found\"\n",
    "        for irrelevant in soup.body([\"script\", \"style\", \"img\", \"input\"]):\n",
    "            irrelevant.decompose()\n",
    "        self.text = soup.body.get_text(separator=\"\\n\", strip=True)"
   ]
  },
  {
   "cell_type": "code",
   "execution_count": 9,
   "id": "bd69caef-fce5-49bf-9c2a-728543aa5b3d",
   "metadata": {},
   "outputs": [
    {
     "name": "stdout",
     "output_type": "stream",
     "text": [
      "How ADT deploys a Sierra AI agent to make every second count  | Sierra\n",
      "Skip to main content\n",
      "Product\n",
      "Industries\n",
      "Customers\n",
      "Company\n",
      "Get started\n",
      "How ADT embraces AI to make every second count.\n",
      "Discover how ADT deploys an AI agent to scale support and deliver an-always-available and personalized customer experience.\n",
      "Boca Raton, FL\n",
      ",\n",
      "November 12, 2024\n",
      "Customer inquiries per month\n",
      "2 million\n",
      "For over 150 years, ADT has been a leader in home security, dedicated to helping customers protect what matters most—their families, homes, and businesses. In recent years, the company has embarked on a transformation, leveraging AI and other technologies to enhance its products and customer care.\n",
      "The launch of the proprietary ADT+ platform marked a significant step in this journey, enabling the company to introduce new services and products more rapidly and effectively. This platform, along with the ADT+ mobile app, has received positive feedback, particularly following the introduction of features like Trusted Neighbor.\n",
      "Delivering faster, more flexible customer care\n",
      "Managing millions of customer interactions each month, including two million care requests, ADT recognized the need to elevate its customer care interactions—from password resets to account management and service appointments—to match the quality of its product offerings. This required a concerted effort across technology, channels, and teams, with clearly defined performance metrics.\n",
      "Understanding that any technology investment must amplify their commitment to customer safety and satisfaction, ADT approached the integration of AI with deliberate care. The company sought to identify specific problems that AI could solve, bringing real value to both customers and employees. Central to this initiative was the principle that \"every second counts,\" emphasizing the importance of resolving customer issues quickly and effectively, especially for those seeking self-service options.\n",
      "Finding a partner\n",
      "Knowing that AI will play a key role in its ongoing customer experience transformation, ADT has been laying much of the groundwork for this shift by unifying data. But a strong data foundation isn’t enough. ADT needs partners who are experts not only in the technology but also know how to strategically apply it to customer care.\n",
      "Sierra emerged as a standout partner, offering strategic insight and relevant expertise. Unlike providers offering generic solutions, Sierra collaborated closely with ADT to integrate the company's brand and customer requirements, deploying an AI agent capable of adapting and supporting multiple areas of the business over time. ADT's leaders saw Sierra not just as a technical solution, but a partner with which to rethink the company's holistic approach to customer experience—a mutual commitment to innovating and scaling in ways that benefit ADT’s customers, agents, and overall business.\n",
      "Accelerating beyond customer support\n",
      "As part of their transformation, ADT  launched a Sierra AI agent to handle a variety of customer Help Center questions—from troubleshooting inquiries like “Why is my system beeping?” to account and billing questions like “How do I sign up for EasyPay?” or “How do I change my password?” Soon, their AI agent will have expanded capabilities, offering customers the ability to make a payment, reschedule a service visit, order yard signs or batteries, and more.\n",
      "This is just the start for ADT. Customer care was chosen as the place to start the company’s AI journey. Given the scale of impact possible, however, ADT intends to evaluate and find new ways to evolve many parts of the business, leveraging AI and technology. Early partners like Sierra are key to setting the right vision, pace, and proof points for what can be achieved, helping companies like ADT not just improve today's customer experience, but inspiring where they go tomorrow.\n",
      "About the company\n",
      "ADT, a leader in smart home security, deploys an AI agent to deliver an enhanced and scaled care experience for their customers, giving them more peace of mind as they protect what matters most - their families, homes and businesses.\n",
      "Visit site\n",
      "Industry\n",
      "Technology\n",
      "With Sierra since\n",
      "August 2024\n",
      "Share\n",
      "See what Sierra can do for you.\n",
      "Find out how Sierra can help your company transform the customer experience with our conversational AI agents.\n",
      "Learn more\n",
      "Product\n",
      "Product Overview\n",
      "Meet Your AI Agent\n",
      "Build\n",
      "Manage\n",
      "Trust\n",
      "Voice\n",
      "Industries\n",
      "Industries Overview\n",
      "Financial Services\n",
      "Healthcare\n",
      "Telecommunications\n",
      "Media\n",
      "Travel and Hospitality\n",
      "Retail and Consumer Goods\n",
      "Technology\n",
      "Customers\n",
      "Customer Stories\n",
      "Company\n",
      "About\n",
      "Blog\n",
      "Resources\n",
      "Careers\n",
      "Trust Center\n",
      "Select language\n",
      "United States\n",
      "English\n",
      "English\n",
      "English\n",
      "Privacy Policy\n",
      "Terms & Conditions\n",
      "Cookie Preferences\n",
      "©\n",
      "2025\n",
      "Sierra\n",
      "linkedin\n",
      "x\n",
      "youtube\n",
      "More customer stories\n",
      "Visionary startups and industry leaders use Sierra to grow stronger and faster.\n",
      "CSAT\n",
      "4.5/5\n",
      "Resolution rate with Sierra\n",
      "70%\n",
      "How OluKai scales the Aloha experience with Sierra.\n",
      "How ThirdLove uses AI to create a perfectly personalized fit.\n",
      "Case resolution\n",
      ">65%\n",
      "CSAT\n",
      "95%\n",
      "How Minted blends artistry with AI to transform customer experiences.\n"
     ]
    }
   ],
   "source": [
    "summary = Website(\"https://sierra.ai/customers/adt\")\n",
    "print(summary.title)\n",
    "print(summary.text)"
   ]
  },
  {
   "cell_type": "code",
   "execution_count": 10,
   "id": "5a406fe1-49a7-4e15-ae36-5f7bb1448e64",
   "metadata": {},
   "outputs": [],
   "source": [
    "system_prompt = \"You're an AI assistant and your role is to provide short and informative summary of webistes provided to you. Response in Markdown\""
   ]
  },
  {
   "cell_type": "code",
   "execution_count": 11,
   "id": "f8757256-d4de-464a-847c-14de3c02aefa",
   "metadata": {},
   "outputs": [],
   "source": [
    "def user_prompt(website):\n",
    "    user_prompt = f\"You are looking at a website titled{website.title}\"\n",
    "    user_prompt += \"The content of the website is provided below. Please summarize all the necessary things\\\n",
    "                    provided. Also summarize any images, links or any other texts if required.\"\n",
    "    user_prompt += website.text\n",
    "    return user_prompt"
   ]
  },
  {
   "cell_type": "markdown",
   "id": "106381e4-d36b-4e57-a11d-9f012802c910",
   "metadata": {},
   "source": [
    "# API format for OpenAI\n",
    "[\n",
    "    {\"role\": \"system\", \"content\": \"system message goes here\"},\n",
    "    {\"role\": \"user\", \"content\": \"user message goes here\"}\n",
    "]"
   ]
  },
  {
   "cell_type": "code",
   "execution_count": 12,
   "id": "bc696ed6-65f5-49cb-8e42-f69e1cbd7227",
   "metadata": {},
   "outputs": [],
   "source": [
    "def messages_for(website):\n",
    "    return [\n",
    "        {\"role\": \"system\", \"content\": system_prompt},\n",
    "        {\"role\": \"user\", \"content\": user_prompt(website)}\n",
    "    ]"
   ]
  },
  {
   "cell_type": "code",
   "execution_count": 13,
   "id": "8aaedbad-529a-4007-81c5-9fb000f492d5",
   "metadata": {},
   "outputs": [
    {
     "data": {
      "text/plain": [
       "[{'role': 'system',\n",
       "  'content': \"You're an AI assistant and your role is to provide short and informative summary of webistes provided to you. Response in Markdown\"},\n",
       " {'role': 'user',\n",
       "  'content': 'You are looking at a website titledHow ADT deploys a Sierra AI agent to make every second count  | SierraThe content of the website is provided below. Please summarize all the necessary things                    provided. Also summarize any images, links or any other texts if required.Skip to main content\\nProduct\\nIndustries\\nCustomers\\nCompany\\nGet started\\nHow ADT embraces AI to make every second count.\\nDiscover how ADT deploys an AI agent to scale support and deliver an-always-available and personalized customer experience.\\nBoca Raton, FL\\n,\\nNovember 12, 2024\\nCustomer inquiries per month\\n2 million\\nFor over 150 years, ADT has been a leader in home security, dedicated to helping customers protect what matters most—their families, homes, and businesses. In recent years, the company has embarked on a transformation, leveraging AI and other technologies to enhance its products and customer care.\\nThe launch of the proprietary ADT+ platform marked a significant step in this journey, enabling the company to introduce new services and products more rapidly and effectively. This platform, along with the ADT+ mobile app, has received positive feedback, particularly following the introduction of features like Trusted Neighbor.\\nDelivering faster, more flexible customer care\\nManaging millions of customer interactions each month, including two million care requests, ADT recognized the need to elevate its customer care interactions—from password resets to account management and service appointments—to match the quality of its product offerings. This required a concerted effort across technology, channels, and teams, with clearly defined performance metrics.\\nUnderstanding that any technology investment must amplify their commitment to customer safety and satisfaction, ADT approached the integration of AI with deliberate care. The company sought to identify specific problems that AI could solve, bringing real value to both customers and employees. Central to this initiative was the principle that \"every second counts,\" emphasizing the importance of resolving customer issues quickly and effectively, especially for those seeking self-service options.\\nFinding a partner\\nKnowing that AI will play a key role in its ongoing customer experience transformation, ADT has been laying much of the groundwork for this shift by unifying data. But a strong data foundation isn’t enough. ADT needs partners who are experts not only in the technology but also know how to strategically apply it to customer care.\\nSierra emerged as a standout partner, offering strategic insight and relevant expertise. Unlike providers offering generic solutions, Sierra collaborated closely with ADT to integrate the company\\'s brand and customer requirements, deploying an AI agent capable of adapting and supporting multiple areas of the business over time. ADT\\'s leaders saw Sierra not just as a technical solution, but a partner with which to rethink the company\\'s holistic approach to customer experience—a mutual commitment to innovating and scaling in ways that benefit ADT’s customers, agents, and overall business.\\nAccelerating beyond customer support\\nAs part of their transformation, ADT  launched a Sierra AI agent to handle a variety of customer Help Center questions—from troubleshooting inquiries like “Why is my system beeping?” to account and billing questions like “How do I sign up for EasyPay?” or “How do I change my password?” Soon, their AI agent will have expanded capabilities, offering customers the ability to make a payment, reschedule a service visit, order yard signs or batteries, and more.\\nThis is just the start for ADT. Customer care was chosen as the place to start the company’s AI journey. Given the scale of impact possible, however, ADT intends to evaluate and find new ways to evolve many parts of the business, leveraging AI and technology. Early partners like Sierra are key to setting the right vision, pace, and proof points for what can be achieved, helping companies like ADT not just improve today\\'s customer experience, but inspiring where they go tomorrow.\\nAbout the company\\nADT, a leader in smart home security, deploys an AI agent to deliver an enhanced and scaled care experience for their customers, giving them more peace of mind as they protect what matters most - their families, homes and businesses.\\nVisit site\\nIndustry\\nTechnology\\nWith Sierra since\\nAugust 2024\\nShare\\nSee what Sierra can do for you.\\nFind out how Sierra can help your company transform the customer experience with our conversational AI agents.\\nLearn more\\nProduct\\nProduct Overview\\nMeet Your AI Agent\\nBuild\\nManage\\nTrust\\nVoice\\nIndustries\\nIndustries Overview\\nFinancial Services\\nHealthcare\\nTelecommunications\\nMedia\\nTravel and Hospitality\\nRetail and Consumer Goods\\nTechnology\\nCustomers\\nCustomer Stories\\nCompany\\nAbout\\nBlog\\nResources\\nCareers\\nTrust Center\\nSelect language\\nUnited States\\nEnglish\\nEnglish\\nEnglish\\nPrivacy Policy\\nTerms & Conditions\\nCookie Preferences\\n©\\n2025\\nSierra\\nlinkedin\\nx\\nyoutube\\nMore customer stories\\nVisionary startups and industry leaders use Sierra to grow stronger and faster.\\nCSAT\\n4.5/5\\nResolution rate with Sierra\\n70%\\nHow OluKai scales the Aloha experience with Sierra.\\nHow ThirdLove uses AI to create a perfectly personalized fit.\\nCase resolution\\n>65%\\nCSAT\\n95%\\nHow Minted blends artistry with AI to transform customer experiences.'}]"
      ]
     },
     "execution_count": 13,
     "metadata": {},
     "output_type": "execute_result"
    }
   ],
   "source": [
    "messages_for(summary)"
   ]
  },
  {
   "cell_type": "code",
   "execution_count": 14,
   "id": "ad4eed94-aa96-4dcf-8d64-f16c7674f20c",
   "metadata": {},
   "outputs": [],
   "source": [
    "# Using OpenAI\n",
    "def summarize_openai(url):\n",
    "    website = Website(url)\n",
    "    response = openai.chat.completions.create(\n",
    "        model = \"gpt-4o-mini\",\n",
    "        messages = messages_for(website)\n",
    "    )\n",
    "    return response.choices[0].message.content"
   ]
  },
  {
   "cell_type": "code",
   "execution_count": 15,
   "id": "d18dbe8c-8d3c-40d0-aef8-992f4dfdccd7",
   "metadata": {},
   "outputs": [],
   "source": [
    "# Using Gemini\n",
    "def summarize_gemini(url):\n",
    "    website = Website(url)\n",
    "    model = genai.GenerativeModel(\"gemini-1.5.flash\")\n",
    "    response = model.generate_content(website)\n",
    "\n",
    "    return respose.text\n",
    "    \n",
    "    "
   ]
  },
  {
   "cell_type": "code",
   "execution_count": 16,
   "id": "e7393550-06c8-429e-abda-ea438a57feb6",
   "metadata": {},
   "outputs": [],
   "source": [
    "def display_summary(url):\n",
    "    summary = summarize_openai(url)\n",
    "    # summary = summarize_gemini(url)\n",
    "    display(Markdown(summary))"
   ]
  },
  {
   "cell_type": "code",
   "execution_count": 18,
   "id": "0c943e3f-6049-468a-9c50-c4abbde66f0a",
   "metadata": {},
   "outputs": [
    {
     "data": {
      "text/markdown": [
       "# Summary of \"How ADT Deploys a Sierra AI Agent to Make Every Second Count\"\n",
       "\n",
       "**Overview:**\n",
       "The website discusses how ADT, a leader in home security for over 150 years, integrates AI technology through the deployment of a Sierra AI agent to enhance customer care and improve service efficiency.\n",
       "\n",
       "## Key Points:\n",
       "\n",
       "- **Customer Engagement:**\n",
       "  - ADT handles approximately **2 million customer inquiries** monthly.\n",
       "  - The company has transformed its approach to customer service by leveraging technologies like AI.\n",
       "\n",
       "- **ADT+ Platform:**\n",
       "  - The launch of the **ADT+ platform** and its mobile app has facilitated the introduction of new services, like the **Trusted Neighbor** feature.\n",
       "  - This platform aims to provide quicker, more flexible customer support.\n",
       "\n",
       "- **AI Integration:**\n",
       "  - ADT's AI strategy focuses on resolving customer interactions effectively, particularly for self-service. Common inquiries include account management and troubleshooting.\n",
       "  - The principle of \"every second counts\" is emphasized, aiming for quick resolutions.\n",
       "\n",
       "- **Partnership with Sierra:**\n",
       "  - Sierra is highlighted as a strategic partner that offers tailored AI solutions, thus helping ADT rethink its customer experience holistically.\n",
       "  - The collaboration encompasses adapting AI to effectively meet ADT's unique customer and branding needs.\n",
       "\n",
       "- **Scope of AI Agent:**\n",
       "  - The AI agent assists with various customer inquiries, including troubleshooting, billing, and account management.\n",
       "  - Future capabilities are set to include payment processing, service rescheduling, and additional features to streamline customer interactions.\n",
       "\n",
       "- **Future Intentions:**\n",
       "  - ADT plans to expand AI applications across the business, looking to enhance customer experience continuously.\n",
       "  \n",
       "## Metrics & Feedback:\n",
       "- **Customer Satisfaction (CSAT):** 4.5/5 with a resolution rate of 70% attributed to Sierra.\n",
       "- Case studies demonstrate successful implementations of Sierra's AI in different industries.\n",
       "\n",
       "## Conclusion:\n",
       "The website effectively communicates ADT's ongoing AI integration to improve customer experience, emphasizing the partnership with Sierra as a significant factor in this transformation. The goal remains to provide enhanced, efficient care that reinforces customer trust and safety.\n",
       "\n",
       "**Links:**\n",
       "- [Visit ADT](#)\n",
       "- [Learn more about Sierra](#)\n",
       "  \n",
       "**Images:**\n",
       "The site may contain visuals showcasing the ADT+ platform and customer interactions, reinforcing the technology's effectiveness and user-friendly interface. \n",
       "\n",
       "---\n",
       "\n",
       "This summary outlines the core concepts and intentions of the ADT and Sierra partnership documented on the website, emphasizing advancements in customer experience through AI."
      ],
      "text/plain": [
       "<IPython.core.display.Markdown object>"
      ]
     },
     "metadata": {},
     "output_type": "display_data"
    }
   ],
   "source": [
    "display_summary(\"https://sierra.ai/customers/adt\")"
   ]
  },
  {
   "cell_type": "code",
   "execution_count": null,
   "id": "f035a95a-51c2-4a3e-8e58-81937877665e",
   "metadata": {},
   "outputs": [],
   "source": []
  }
 ],
 "metadata": {
  "kernelspec": {
   "display_name": "Python 3 (ipykernel)",
   "language": "python",
   "name": "python3"
  },
  "language_info": {
   "codemirror_mode": {
    "name": "ipython",
    "version": 3
   },
   "file_extension": ".py",
   "mimetype": "text/x-python",
   "name": "python",
   "nbconvert_exporter": "python",
   "pygments_lexer": "ipython3",
   "version": "3.11.5"
  }
 },
 "nbformat": 4,
 "nbformat_minor": 5
}
