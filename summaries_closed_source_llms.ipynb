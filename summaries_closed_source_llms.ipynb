{
 "cells": [
  {
   "cell_type": "markdown",
   "id": "a580b6a6-4b68-4e08-9050-edce504ccbbb",
   "metadata": {},
   "source": [
    "# Importing Libraries"
   ]
  },
  {
   "cell_type": "code",
   "execution_count": 1,
   "id": "85ad66f2-7380-43b4-94f9-0d095580cabd",
   "metadata": {},
   "outputs": [],
   "source": [
    "import os\n",
    "import requests\n",
    "from dotenv import load_dotenv\n",
    "from bs4 import BeautifulSoup\n",
    "from IPython.display import Markdown, display\n",
    "from openai import OpenAI\n",
    "import google.generativeai as genai"
   ]
  },
  {
   "cell_type": "code",
   "execution_count": 2,
   "id": "e21e395e-f91a-441a-8982-fa2090bb05b1",
   "metadata": {},
   "outputs": [
    {
     "name": "stdout",
     "output_type": "stream",
     "text": [
      "Requirement already satisfied: requests in ./venv/lib/python3.11/site-packages (2.32.3)\n",
      "Requirement already satisfied: beautifulsoup4 in ./venv/lib/python3.11/site-packages (4.13.3)\n",
      "Requirement already satisfied: google-generativeai in ./venv/lib/python3.11/site-packages (0.8.4)\n",
      "Requirement already satisfied: charset-normalizer<4,>=2 in ./venv/lib/python3.11/site-packages (from requests) (3.4.1)\n",
      "Requirement already satisfied: idna<4,>=2.5 in ./venv/lib/python3.11/site-packages (from requests) (3.10)\n",
      "Requirement already satisfied: urllib3<3,>=1.21.1 in ./venv/lib/python3.11/site-packages (from requests) (2.4.0)\n",
      "Requirement already satisfied: certifi>=2017.4.17 in ./venv/lib/python3.11/site-packages (from requests) (2025.1.31)\n",
      "Requirement already satisfied: soupsieve>1.2 in ./venv/lib/python3.11/site-packages (from beautifulsoup4) (2.6)\n",
      "Requirement already satisfied: typing-extensions>=4.0.0 in ./venv/lib/python3.11/site-packages (from beautifulsoup4) (4.13.2)\n",
      "Requirement already satisfied: google-ai-generativelanguage==0.6.15 in ./venv/lib/python3.11/site-packages (from google-generativeai) (0.6.15)\n",
      "Requirement already satisfied: google-api-core in ./venv/lib/python3.11/site-packages (from google-generativeai) (2.24.2)\n",
      "Requirement already satisfied: google-api-python-client in ./venv/lib/python3.11/site-packages (from google-generativeai) (2.166.0)\n",
      "Requirement already satisfied: google-auth>=2.15.0 in ./venv/lib/python3.11/site-packages (from google-generativeai) (2.38.0)\n",
      "Requirement already satisfied: protobuf in ./venv/lib/python3.11/site-packages (from google-generativeai) (5.29.4)\n",
      "Requirement already satisfied: pydantic in ./venv/lib/python3.11/site-packages (from google-generativeai) (2.11.3)\n",
      "Requirement already satisfied: tqdm in ./venv/lib/python3.11/site-packages (from google-generativeai) (4.67.1)\n",
      "Requirement already satisfied: proto-plus<2.0.0dev,>=1.22.3 in ./venv/lib/python3.11/site-packages (from google-ai-generativelanguage==0.6.15->google-generativeai) (1.26.1)\n",
      "Requirement already satisfied: cachetools<6.0,>=2.0.0 in ./venv/lib/python3.11/site-packages (from google-auth>=2.15.0->google-generativeai) (5.5.2)\n",
      "Requirement already satisfied: pyasn1-modules>=0.2.1 in ./venv/lib/python3.11/site-packages (from google-auth>=2.15.0->google-generativeai) (0.4.2)\n",
      "Requirement already satisfied: rsa<5,>=3.1.4 in ./venv/lib/python3.11/site-packages (from google-auth>=2.15.0->google-generativeai) (4.9)\n",
      "Requirement already satisfied: googleapis-common-protos<2.0.0,>=1.56.2 in ./venv/lib/python3.11/site-packages (from google-api-core->google-generativeai) (1.69.2)\n",
      "Requirement already satisfied: httplib2<1.0.0,>=0.19.0 in ./venv/lib/python3.11/site-packages (from google-api-python-client->google-generativeai) (0.22.0)\n",
      "Requirement already satisfied: google-auth-httplib2<1.0.0,>=0.2.0 in ./venv/lib/python3.11/site-packages (from google-api-python-client->google-generativeai) (0.2.0)\n",
      "Requirement already satisfied: uritemplate<5,>=3.0.1 in ./venv/lib/python3.11/site-packages (from google-api-python-client->google-generativeai) (4.1.1)\n",
      "Requirement already satisfied: annotated-types>=0.6.0 in ./venv/lib/python3.11/site-packages (from pydantic->google-generativeai) (0.7.0)\n",
      "Requirement already satisfied: pydantic-core==2.33.1 in ./venv/lib/python3.11/site-packages (from pydantic->google-generativeai) (2.33.1)\n",
      "Requirement already satisfied: typing-inspection>=0.4.0 in ./venv/lib/python3.11/site-packages (from pydantic->google-generativeai) (0.4.0)\n",
      "Requirement already satisfied: grpcio<2.0dev,>=1.33.2 in ./venv/lib/python3.11/site-packages (from google-api-core->google-generativeai) (1.71.0)\n",
      "Requirement already satisfied: grpcio-status<2.0.dev0,>=1.33.2 in ./venv/lib/python3.11/site-packages (from google-api-core->google-generativeai) (1.71.0)\n",
      "Requirement already satisfied: pyparsing!=3.0.0,!=3.0.1,!=3.0.2,!=3.0.3,<4,>=2.4.2 in ./venv/lib/python3.11/site-packages (from httplib2<1.0.0,>=0.19.0->google-api-python-client->google-generativeai) (3.2.3)\n",
      "Requirement already satisfied: pyasn1<0.7.0,>=0.6.1 in ./venv/lib/python3.11/site-packages (from pyasn1-modules>=0.2.1->google-auth>=2.15.0->google-generativeai) (0.6.1)\n",
      "\n",
      "\u001b[1m[\u001b[0m\u001b[34;49mnotice\u001b[0m\u001b[1;39;49m]\u001b[0m\u001b[39;49m A new release of pip is available: \u001b[0m\u001b[31;49m23.2.1\u001b[0m\u001b[39;49m -> \u001b[0m\u001b[32;49m25.0.1\u001b[0m\n",
      "\u001b[1m[\u001b[0m\u001b[34;49mnotice\u001b[0m\u001b[1;39;49m]\u001b[0m\u001b[39;49m To update, run: \u001b[0m\u001b[32;49mpip install --upgrade pip\u001b[0m\n"
     ]
    }
   ],
   "source": [
    "! pip install requests beautifulsoup4 google-generativeai"
   ]
  },
  {
   "cell_type": "markdown",
   "id": "1b3c02cb-5b7a-4e85-bba0-a705c80f4ed3",
   "metadata": {},
   "source": [
    "# Connecting to OpenAI"
   ]
  },
  {
   "cell_type": "code",
   "execution_count": 11,
   "id": "c5929fc4-5246-4bde-8a61-fa3d459b25c9",
   "metadata": {},
   "outputs": [
    {
     "name": "stdout",
     "output_type": "stream",
     "text": [
      "sk-proj-8\n",
      "AIz\n"
     ]
    }
   ],
   "source": [
    "# load_dotenv()\n",
    "# openai_api_key = os.getenv('OPENAI_API_KEY')\n",
    "# print(api_key[:9])\n",
    "# gemini_api_key = os.getenv('GEMINI_API_KEY')\n",
    "# print(gemini_api_key[0:3])\n",
    "\n",
    "\n",
    "# from dotenv import load_dotenv\n",
    "# import os\n",
    "\n",
    "load_dotenv()\n",
    "\n",
    "openai_api_key = os.getenv('OPENAI_API_KEY')\n",
    "print(openai_api_key[:9])  # <-- this line caused the error before\n",
    "\n",
    "gemini_api_key = os.getenv('GEMINI_API_KEY')\n",
    "print(gemini_api_key[:3])\n"
   ]
  },
  {
   "cell_type": "code",
   "execution_count": 12,
   "id": "bdd1314e-66f1-4cca-85aa-8375dbea7dc6",
   "metadata": {},
   "outputs": [],
   "source": [
    "openai = OpenAI()\n",
    "gemini = genai.GenerativeModel(model_name=\"gemini-1.5-flash\")"
   ]
  },
  {
   "cell_type": "code",
   "execution_count": 13,
   "id": "f9e29bdc-32a0-4b02-8622-5f9ec7c9f297",
   "metadata": {},
   "outputs": [],
   "source": [
    "headers = {\n",
    " \"User-Agent\": \"Mozilla/5.0 (Windows NT 10.0; Win64; x64) AppleWebKit/537.36 (KHTML, like Gecko) Chrome/117.0.0.0 Safari/537.36\"\n",
    "}\n",
    "class Website:\n",
    "\n",
    "    def __init__(self, url):\n",
    "        \"\"\"\n",
    "        Create this Website object from the given url using the BeautifulSoup library\n",
    "        \"\"\"\n",
    "        self.url = url\n",
    "        response = requests.get(url, headers=headers)\n",
    "        soup = BeautifulSoup(response.content, 'html.parser')\n",
    "        self.title = soup.title.string if soup.title else \"No title found\"\n",
    "        for irrelevant in soup.body([\"script\", \"style\", \"img\", \"input\"]):\n",
    "            irrelevant.decompose()\n",
    "        self.text = soup.body.get_text(separator=\"\\n\", strip=True)"
   ]
  },
  {
   "cell_type": "code",
   "execution_count": 14,
   "id": "bd69caef-fce5-49bf-9c2a-728543aa5b3d",
   "metadata": {},
   "outputs": [
    {
     "name": "stdout",
     "output_type": "stream",
     "text": [
      "OpenAI Research | OpenAI\n",
      "Skip to main content\n",
      "Log in\n",
      "Switch to\n",
      "ChatGPT\n",
      "(opens in a new window)\n",
      "Sora\n",
      "(opens in a new window)\n",
      "API Platform\n",
      "(opens in a new window)\n",
      "Home\n",
      "Research Index\n",
      "Research Overview\n",
      "Research Residency\n",
      "Latest Advancements\n",
      "OpenAI o3 and o4-mini\n",
      "GPT-4.5\n",
      "OpenAI o1\n",
      "GPT-4o\n",
      "Sora\n",
      "Research\n",
      "Back to main menu\n",
      "Research Index\n",
      "Research Overview\n",
      "Research Residency\n",
      "Latest Advancements\n",
      "OpenAI o3 and o4-mini\n",
      "GPT-4.5\n",
      "OpenAI o1\n",
      "GPT-4o\n",
      "Sora\n",
      "Safety\n",
      "Back to main menu\n",
      "Safety Approach\n",
      "Security & Privacy\n",
      "ChatGPT\n",
      "Back to main menu\n",
      "Explore ChatGPT\n",
      "Team\n",
      "Enterprise\n",
      "Education\n",
      "Pricing\n",
      "Download\n",
      "Sora\n",
      "Back to main menu\n",
      "Sora Overview\n",
      "Features\n",
      "Pricing\n",
      "Help center\n",
      "(opens in a new window)\n",
      "Sora log in\n",
      "(opens in a new window)\n",
      "API Platform\n",
      "Back to main menu\n",
      "Platform Overview\n",
      "Pricing\n",
      "API Log in\n",
      "(opens in a new window)\n",
      "Documentation\n",
      "(opens in a new window)\n",
      "Developer Forum\n",
      "(opens in a new window)\n",
      "For Business\n",
      "Stories\n",
      "Company\n",
      "Back to main menu\n",
      "About us\n",
      "Our Charter\n",
      "Careers\n",
      "Brand\n",
      "Overview\n",
      "Logos\n",
      "Gallery\n",
      "Partnerships\n",
      "Typography\n",
      "Language\n",
      "Contact\n",
      "News\n",
      "Log in\n",
      "OpenAI\n",
      "Research\n",
      "All\n",
      "Publication\n",
      "Conclusion\n",
      "Milestone\n",
      "Release\n",
      "Filter\n",
      "Sort\n",
      "Switch cards to show Media\n",
      "Switch cards to hide Media\n",
      "Publication\n",
      "Apr 16, 2025\n",
      "OpenAI o3 and o4-mini System Card\n",
      "OpenAI o3 and OpenAI o4-mini combine state-of-the-art reasoning with full tool capabilities—web browsing, Python, image and file analysis, image generation, canvas, automations, file search, and memory.\n",
      "Release\n",
      "Apr 16, 2025\n",
      "Introducing OpenAI o3 and o4-mini\n",
      "Our smartest and most capable models to date with full tool access\n",
      "Release\n",
      "Apr 16, 2025\n",
      "Thinking with images\n",
      "OpenAI o3 and o4-mini represent a significant breakthrough in visual perception by reasoning with images in their chain of thought.\n",
      "Publication\n",
      "Apr 15, 2025\n",
      "Our updated Preparedness Framework\n",
      "Sharing our updated framework for measuring and protecting against severe harm from frontier AI capabilities.\n",
      "Product\n",
      "Apr 14, 2025\n",
      "Introducing GPT-4.1 in the API\n",
      "Introducing GPT-4.1 in the API—a new family of models with across-the-board improvements, including major gains in coding, instruction following, and long-context understanding. We’re also releasing our first nano model. Available to developers worldwide starting today.\n",
      "Publication\n",
      "Apr 10, 2025\n",
      "BrowseComp: a benchmark for browsing agents\n",
      "BrowseComp: a benchmark for browsing agents.\n",
      "Publication\n",
      "Apr 2, 2025\n",
      "PaperBench: Evaluating AI’s Ability to Replicate AI Research\n",
      "We introduce PaperBench, a benchmark evaluating the ability of AI agents to replicate state-of-the-art AI research.\n",
      "Product\n",
      "Mar 25, 2025\n",
      "Introducing 4o Image Generation\n",
      "At OpenAI, we have long believed image generation should be a primary capability of our language models. That’s why we’ve built our most advanced image generator yet into GPT‑4o. The result—image generation that is not only beautiful, but useful.\n",
      "Publication\n",
      "Mar 25, 2025\n",
      "Addendum to GPT-4o System Card: 4o image generation\n",
      "4o image generation is a new, significantly more capable image generation approach than our earlier DALL·E 3 series of models. It can create photorealistic output. It can take images as inputs and transform them.\n",
      "Load more\n",
      "Our Research\n",
      "Research Index\n",
      "Research Overview\n",
      "Research Residency\n",
      "Latest Advancements\n",
      "OpenAI o1\n",
      "OpenAI o1-mini\n",
      "GPT-4o\n",
      "GPT-4o mini\n",
      "Sora\n",
      "Safety\n",
      "Safety Approach\n",
      "Security & Privacy\n",
      "ChatGPT\n",
      "Explore ChatGPT\n",
      "Team\n",
      "Enterprise\n",
      "Education\n",
      "Pricing\n",
      "Download\n",
      "Sora\n",
      "Sora Overview\n",
      "Features\n",
      "Pricing\n",
      "Sora log in\n",
      "(opens in a new window)\n",
      "API Platform\n",
      "Platform Overview\n",
      "Pricing\n",
      "API log in\n",
      "(opens in a new window)\n",
      "Documentation\n",
      "(opens in a new window)\n",
      "Developer Forum\n",
      "(opens in a new window)\n",
      "For Business\n",
      "Overview\n",
      "Company\n",
      "About us\n",
      "Our Charter\n",
      "Careers\n",
      "Brand\n",
      "More\n",
      "News\n",
      "Stories\n",
      "Help Center\n",
      "(opens in a new window)\n",
      "Terms & Policies\n",
      "Terms of Use\n",
      "Privacy Policy\n",
      "Security\n",
      "Other Policies\n",
      "(opens in a new window)\n",
      "(opens in a new window)\n",
      "(opens in a new window)\n",
      "(opens in a new window)\n",
      "(opens in a new window)\n",
      "(opens in a new window)\n",
      "(opens in a new window)\n",
      "OpenAI © 2015–2025\n",
      "English\n",
      "United States\n"
     ]
    }
   ],
   "source": [
    "summary = Website(\"https://openai.com/research/index/\")\n",
    "print(summary.title)\n",
    "print(summary.text)"
   ]
  },
  {
   "cell_type": "code",
   "execution_count": 15,
   "id": "5a406fe1-49a7-4e15-ae36-5f7bb1448e64",
   "metadata": {},
   "outputs": [],
   "source": [
    "system_prompt = \"You're an AI assistant and your role is to provide short and informative summary of webistes provided to you. Response in Markdown\""
   ]
  },
  {
   "cell_type": "code",
   "execution_count": 16,
   "id": "f8757256-d4de-464a-847c-14de3c02aefa",
   "metadata": {},
   "outputs": [],
   "source": [
    "def user_prompt(website):\n",
    "    user_prompt = f\"You are looking at a website titled{website.title}\"\n",
    "    user_prompt += \"The content of the website is provided below. Please summarize all the necessary things\\\n",
    "                    provided. Also summarize any images, links or any other texts if required.\"\n",
    "    user_prompt += website.text\n",
    "    return user_prompt"
   ]
  },
  {
   "cell_type": "markdown",
   "id": "106381e4-d36b-4e57-a11d-9f012802c910",
   "metadata": {},
   "source": [
    "# API format for OpenAI\n",
    "[\n",
    "    {\"role\": \"system\", \"content\": \"system message goes here\"},\n",
    "    {\"role\": \"user\", \"content\": \"user message goes here\"}\n",
    "]"
   ]
  },
  {
   "cell_type": "code",
   "execution_count": 17,
   "id": "bc696ed6-65f5-49cb-8e42-f69e1cbd7227",
   "metadata": {},
   "outputs": [],
   "source": [
    "def messages_for(website):\n",
    "    return [\n",
    "        {\"role\": \"system\", \"content\": system_prompt},\n",
    "        {\"role\": \"user\", \"content\": user_prompt(website)}\n",
    "    ]"
   ]
  },
  {
   "cell_type": "code",
   "execution_count": 18,
   "id": "8aaedbad-529a-4007-81c5-9fb000f492d5",
   "metadata": {},
   "outputs": [
    {
     "data": {
      "text/plain": [
       "[{'role': 'system',\n",
       "  'content': \"You're an AI assistant and your role is to provide short and informative summary of webistes provided to you. Response in Markdown\"},\n",
       " {'role': 'user',\n",
       "  'content': 'You are looking at a website titledOpenAI Research | OpenAIThe content of the website is provided below. Please summarize all the necessary things                    provided. Also summarize any images, links or any other texts if required.Skip to main content\\nLog in\\nSwitch to\\nChatGPT\\n(opens in a new window)\\nSora\\n(opens in a new window)\\nAPI Platform\\n(opens in a new window)\\nHome\\nResearch Index\\nResearch Overview\\nResearch Residency\\nLatest Advancements\\nOpenAI o3 and o4-mini\\nGPT-4.5\\nOpenAI o1\\nGPT-4o\\nSora\\nResearch\\nBack to main menu\\nResearch Index\\nResearch Overview\\nResearch Residency\\nLatest Advancements\\nOpenAI o3 and o4-mini\\nGPT-4.5\\nOpenAI o1\\nGPT-4o\\nSora\\nSafety\\nBack to main menu\\nSafety Approach\\nSecurity & Privacy\\nChatGPT\\nBack to main menu\\nExplore ChatGPT\\nTeam\\nEnterprise\\nEducation\\nPricing\\nDownload\\nSora\\nBack to main menu\\nSora Overview\\nFeatures\\nPricing\\nHelp center\\n(opens in a new window)\\nSora log in\\n(opens in a new window)\\nAPI Platform\\nBack to main menu\\nPlatform Overview\\nPricing\\nAPI Log in\\n(opens in a new window)\\nDocumentation\\n(opens in a new window)\\nDeveloper Forum\\n(opens in a new window)\\nFor Business\\nStories\\nCompany\\nBack to main menu\\nAbout us\\nOur Charter\\nCareers\\nBrand\\nOverview\\nLogos\\nGallery\\nPartnerships\\nTypography\\nLanguage\\nContact\\nNews\\nLog in\\nOpenAI\\nResearch\\nAll\\nPublication\\nConclusion\\nMilestone\\nRelease\\nFilter\\nSort\\nSwitch cards to show Media\\nSwitch cards to hide Media\\nPublication\\nApr 16, 2025\\nOpenAI o3 and o4-mini System Card\\nOpenAI o3 and OpenAI o4-mini combine state-of-the-art reasoning with full tool capabilities—web browsing, Python, image and file analysis, image generation, canvas, automations, file search, and memory.\\nRelease\\nApr 16, 2025\\nIntroducing OpenAI o3 and o4-mini\\nOur smartest and most capable models to date with full tool access\\nRelease\\nApr 16, 2025\\nThinking with images\\nOpenAI o3 and o4-mini represent a significant breakthrough in visual perception by reasoning with images in their chain of thought.\\nPublication\\nApr 15, 2025\\nOur updated Preparedness Framework\\nSharing our updated framework for measuring and protecting against severe harm from frontier AI capabilities.\\nProduct\\nApr 14, 2025\\nIntroducing GPT-4.1 in the API\\nIntroducing GPT-4.1 in the API—a new family of models with across-the-board improvements, including major gains in coding, instruction following, and long-context understanding. We’re also releasing our first nano model. Available to developers worldwide starting today.\\nPublication\\nApr 10, 2025\\nBrowseComp: a benchmark for browsing agents\\nBrowseComp: a benchmark for browsing agents.\\nPublication\\nApr 2, 2025\\nPaperBench: Evaluating AI’s Ability to Replicate AI Research\\nWe introduce PaperBench, a benchmark evaluating the ability of AI agents to replicate state-of-the-art AI research.\\nProduct\\nMar 25, 2025\\nIntroducing 4o Image Generation\\nAt OpenAI, we have long believed image generation should be a primary capability of our language models. That’s why we’ve built our most advanced image generator yet into GPT‑4o. The result—image generation that is not only beautiful, but useful.\\nPublication\\nMar 25, 2025\\nAddendum to GPT-4o System Card: 4o image generation\\n4o image generation is a new, significantly more capable image generation approach than our earlier DALL·E 3 series of models. It can create photorealistic output. It can take images as inputs and transform them.\\nLoad more\\nOur Research\\nResearch Index\\nResearch Overview\\nResearch Residency\\nLatest Advancements\\nOpenAI o1\\nOpenAI o1-mini\\nGPT-4o\\nGPT-4o mini\\nSora\\nSafety\\nSafety Approach\\nSecurity & Privacy\\nChatGPT\\nExplore ChatGPT\\nTeam\\nEnterprise\\nEducation\\nPricing\\nDownload\\nSora\\nSora Overview\\nFeatures\\nPricing\\nSora log in\\n(opens in a new window)\\nAPI Platform\\nPlatform Overview\\nPricing\\nAPI log in\\n(opens in a new window)\\nDocumentation\\n(opens in a new window)\\nDeveloper Forum\\n(opens in a new window)\\nFor Business\\nOverview\\nCompany\\nAbout us\\nOur Charter\\nCareers\\nBrand\\nMore\\nNews\\nStories\\nHelp Center\\n(opens in a new window)\\nTerms & Policies\\nTerms of Use\\nPrivacy Policy\\nSecurity\\nOther Policies\\n(opens in a new window)\\n(opens in a new window)\\n(opens in a new window)\\n(opens in a new window)\\n(opens in a new window)\\n(opens in a new window)\\n(opens in a new window)\\nOpenAI © 2015–2025\\nEnglish\\nUnited States'}]"
      ]
     },
     "execution_count": 18,
     "metadata": {},
     "output_type": "execute_result"
    }
   ],
   "source": [
    "messages_for(summary)"
   ]
  },
  {
   "cell_type": "code",
   "execution_count": 19,
   "id": "ad4eed94-aa96-4dcf-8d64-f16c7674f20c",
   "metadata": {},
   "outputs": [],
   "source": [
    "# Using OpenAI\n",
    "def summarize_openai(url):\n",
    "    website = Website(url)\n",
    "    response = openai.chat.completions.create(\n",
    "        model = \"gpt-4o-mini\",\n",
    "        messages = messages_for(website)\n",
    "    )\n",
    "    return response.choices[0].message.content"
   ]
  },
  {
   "cell_type": "code",
   "execution_count": 20,
   "id": "d18dbe8c-8d3c-40d0-aef8-992f4dfdccd7",
   "metadata": {},
   "outputs": [],
   "source": [
    "# Using Gemini\n",
    "def summarize_gemini(url):\n",
    "    website = Website(url)\n",
    "    model = genai.GenerativeModel(\"gemini-1.5.flash\")\n",
    "    response = model.generate_content(website)\n",
    "\n",
    "    return respose.text\n",
    "    \n",
    "    "
   ]
  },
  {
   "cell_type": "code",
   "execution_count": 21,
   "id": "e7393550-06c8-429e-abda-ea438a57feb6",
   "metadata": {},
   "outputs": [],
   "source": [
    "def display_summary(url):\n",
    "    summary = summarize_openai(url)\n",
    "    # summary = summarize_gemini(url)\n",
    "    display(Markdown(summary))"
   ]
  },
  {
   "cell_type": "code",
   "execution_count": 22,
   "id": "0c943e3f-6049-468a-9c50-c4abbde66f0a",
   "metadata": {},
   "outputs": [
    {
     "data": {
      "text/markdown": [
       "# ADT®️ Homepage Summary\n",
       "\n",
       "### Overview\n",
       "The ADT website serves as a hub for home and business security solutions. It offers a variety of alarm systems, smart home integrations, and monitoring services aimed at enhancing safety and peace of mind.\n",
       "\n",
       "### Key Sections\n",
       "\n",
       "1. **Packages**\n",
       "   - **Security Starter Pack**: Basic home security package.\n",
       "   - **Outdoor Video**: Monitoring for the home's exterior.\n",
       "   - **Front Door Protection**: Combines video and locking systems.\n",
       "   - **Customization**: Options to tailor security systems according to individual needs.\n",
       "\n",
       "2. **Products**\n",
       "   - **Cameras**: Various surveillance options.\n",
       "   - **Smart Home Security**: Integration with smart home devices.\n",
       "   - **Life Safety Detectors**: Devices for detecting hazards such as smoke and carbon monoxide.\n",
       "   - **Smart Home Accessories**: Additional enhancements for home automation.\n",
       "\n",
       "3. **Services**\n",
       "   - **ADT Monitoring**: 24/7 professional monitoring services.\n",
       "   - **Trusted Neighbor™**: Grant trusted neighbors access to your home.\n",
       "   - **ADT+ App**: Mobile app to manage connected devices.\n",
       "\n",
       "4. **Current Promotions**\n",
       "   - **Limited Time Offer**: ADT DIY Life Safety package for $199.\n",
       "   - **Google Nest Deal**: Complimentary Google Nest Doorbell and Camera with qualifying system purchases.\n",
       "\n",
       "5. **Support and Resources**\n",
       "   - **Free Home Consultation**: Initial security assessment offered.\n",
       "   - **Crime Rate Maps**: Tools to assess security needs based on location.\n",
       "\n",
       "6. **Contact Options**\n",
       "   - Customers can obtain a free quote by filling out a form or calling directly.\n",
       "\n",
       "### Images and Visual Content\n",
       "- **Promotional Banners**: Highlighting offers like the Google Nest equipment deal and custom system configurations.\n",
       "- **Security System Setup Images**: Showcase various products and systems.\n",
       "\n",
       "### Links and Additional Information\n",
       "- **Terms & Policies**: Information on privacy and service agreements are available.\n",
       "- **News and Updates**: Sections for ADT news, investor relations, and career opportunities.\n",
       "\n",
       "### Sign-Up Options\n",
       "- **Email Sign-Up**: Users can subscribe to receive updates and promotional offers.\n",
       "\n",
       "### Company Credibility\n",
       "- ADT claims to be the most trusted name in home security, backed by award-winning monitoring technology and over 150 years of experience in the industry.\n",
       "\n",
       "### Accessibility Features\n",
       "- The website caters to various user preferences, including bilingual support and mobile accessibility. \n",
       "\n",
       "### Conclusion\n",
       "The ADT website provides comprehensive resources for potential customers looking for security solutions. Its rich offerings and user-friendly sign-up processes are aimed at delivering personalized security options while ensuring customer engagement through informative content."
      ],
      "text/plain": [
       "<IPython.core.display.Markdown object>"
      ]
     },
     "metadata": {},
     "output_type": "display_data"
    }
   ],
   "source": [
    "display_summary(\"https://www.adt.com/\")"
   ]
  },
  {
   "cell_type": "code",
   "execution_count": null,
   "id": "f035a95a-51c2-4a3e-8e58-81937877665e",
   "metadata": {},
   "outputs": [],
   "source": []
  }
 ],
 "metadata": {
  "kernelspec": {
   "display_name": "Python 3 (ipykernel)",
   "language": "python",
   "name": "python3"
  },
  "language_info": {
   "codemirror_mode": {
    "name": "ipython",
    "version": 3
   },
   "file_extension": ".py",
   "mimetype": "text/x-python",
   "name": "python",
   "nbconvert_exporter": "python",
   "pygments_lexer": "ipython3",
   "version": "3.11.5"
  }
 },
 "nbformat": 4,
 "nbformat_minor": 5
}
